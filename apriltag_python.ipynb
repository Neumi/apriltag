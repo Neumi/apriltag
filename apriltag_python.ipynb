{
  "nbformat": 4,
  "nbformat_minor": 0,
  "metadata": {
    "colab": {
      "name": "apriltag_python.ipynb",
      "provenance": [],
      "include_colab_link": true
    },
    "kernelspec": {
      "name": "python3",
      "display_name": "Python 3"
    }
  },
  "cells": [
    {
      "cell_type": "markdown",
      "metadata": {
        "id": "view-in-github",
        "colab_type": "text"
      },
      "source": [
        "<a href=\"https://colab.research.google.com/github/Neumi/apriltag/blob/master/apriltag_python.ipynb\" target=\"_parent\"><img src=\"https://colab.research.google.com/assets/colab-badge.svg\" alt=\"Open In Colab\"/></a>"
      ]
    },
    {
      "cell_type": "code",
      "metadata": {
        "id": "TSTg_q2U8Iv_",
        "colab_type": "code",
        "colab": {
          "base_uri": "https://localhost:8080/",
          "height": 103
        },
        "outputId": "92d5b6c8-8591-432a-eb4f-3bbbcc1dfff9"
      },
      "source": [
        "!git clone https://github.com/swatbotics/apriltag"
      ],
      "execution_count": 1,
      "outputs": [
        {
          "output_type": "stream",
          "text": [
            "Cloning into 'apriltag'...\n",
            "remote: Enumerating objects: 964, done.\u001b[K\n",
            "remote: Total 964 (delta 0), reused 0 (delta 0), pack-reused 964\u001b[K\n",
            "Receiving objects: 100% (964/964), 12.39 MiB | 43.15 MiB/s, done.\n",
            "Resolving deltas: 100% (566/566), done.\n"
          ],
          "name": "stdout"
        }
      ]
    },
    {
      "cell_type": "code",
      "metadata": {
        "id": "A8GONB_L8XUW",
        "colab_type": "code",
        "colab": {}
      },
      "source": [
        "!cd apriltag && mkdir build \n",
        "!cd apriltag/build && cmake .. -DCMAKE_BUILD_TYPE=Release\n",
        "!cd apriltag/build && make -j4\n",
        "!cd apriltag/build sudo make install\n"
      ],
      "execution_count": 0,
      "outputs": []
    },
    {
      "cell_type": "markdown",
      "metadata": {
        "id": "2h63bc1P_yvK",
        "colab_type": "text"
      },
      "source": [
        ""
      ]
    },
    {
      "cell_type": "code",
      "metadata": {
        "id": "g-8qbg0q-_pC",
        "colab_type": "code",
        "colab": {}
      },
      "source": [
        "\n",
        "! curl -o 'image.jpg' http://wiki.lofarolabs.com/images/0/00/PrettyTags.jpg\n",
        "!cd apriltag/python && python apriltag.py -c -k '(765.00, 764.18, 393.72, 304.66)' -s .127 ../../image.jpg"
      ],
      "execution_count": 0,
      "outputs": []
    },
    {
      "cell_type": "code",
      "metadata": {
        "id": "l4ocvVRR_0uw",
        "colab_type": "code",
        "colab": {}
      },
      "source": [
        ""
      ],
      "execution_count": 0,
      "outputs": []
    }
  ]
}